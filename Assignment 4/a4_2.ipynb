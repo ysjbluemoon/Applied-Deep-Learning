{
  "nbformat": 4,
  "nbformat_minor": 0,
  "metadata": {
    "colab": {
      "name": "a4-2.ipynb",
      "provenance": [],
      "toc_visible": true,
      "include_colab_link": true
    },
    "kernelspec": {
      "name": "python3",
      "display_name": "Python 3"
    },
    "accelerator": "GPU"
  },
  "cells": [
    {
      "cell_type": "markdown",
      "metadata": {
        "id": "view-in-github",
        "colab_type": "text"
      },
      "source": [
        "<a href=\"https://colab.research.google.com/github/ysjbluemoon/Applied-Deep-Learning/blob/master/Assignment%204/a4_2.ipynb\" target=\"_parent\"><img src=\"https://colab.research.google.com/assets/colab-badge.svg\" alt=\"Open In Colab\"/></a>"
      ]
    },
    {
      "cell_type": "markdown",
      "metadata": {
        "id": "bHVUJ6rH1HmH",
        "colab_type": "text"
      },
      "source": [
        "## Notebook two: Preprocessing and training\n",
        "Create a new notebook for this. At the start, download your starter CSV and thumbnails.zip.\n",
        "\n",
        "The starter code below assumes you have created a zip file called \"thumbnails.zip\" containing only the resized images from the COOC training set mentioned in the starter CSV, and that you can download it from a URL."
      ]
    },
    {
      "cell_type": "code",
      "metadata": {
        "id": "IXsBdQ-p1H6S",
        "colab_type": "code",
        "colab": {}
      },
      "source": [
        "colab_root = \"/content/\" "
      ],
      "execution_count": 0,
      "outputs": []
    },
    {
      "cell_type": "markdown",
      "metadata": {
        "id": "do0le91D1QGE",
        "colab_type": "text"
      },
      "source": [
        "### Download the starter CSV"
      ]
    },
    {
      "cell_type": "code",
      "metadata": {
        "id": "PCisbBcs1pbl",
        "colab_type": "code",
        "colab": {}
      },
      "source": [
        "import matplotlib.pyplot as plt\n",
        "import matplotlib.image as im\n",
        "import numpy as np\n",
        "import os\n",
        "import pickle\n",
        "import random\n",
        "import shutil\n",
        "import time\n",
        "import pandas as pd\n",
        "\n",
        "from google.colab import drive\n",
        "from PIL import Image\n",
        "from sklearn.model_selection import train_test_split"
      ],
      "execution_count": 0,
      "outputs": []
    },
    {
      "cell_type": "code",
      "metadata": {
        "id": "mr5wHdaf1wJ8",
        "colab_type": "code",
        "colab": {
          "base_uri": "https://localhost:8080/",
          "height": 54
        },
        "outputId": "aef2d098-5d9f-45cc-8856-d3d49b5466fb"
      },
      "source": [
        "%tensorflow_version 2.x\n",
        "import tensorflow as tf"
      ],
      "execution_count": 3,
      "outputs": [
        {
          "output_type": "stream",
          "text": [
            "TensorFlow 2.x selected.\n"
          ],
          "name": "stdout"
        }
      ]
    },
    {
      "cell_type": "code",
      "metadata": {
        "id": "WE2MFDmc15Kb",
        "colab_type": "code",
        "colab": {}
      },
      "source": [
        "def download_if_missing(url, target, extract=True):\n",
        "  if os.path.exists(target):\n",
        "    return target\n",
        "  return tf.keras.utils.get_file(target, origin=url, extract=extract)"
      ],
      "execution_count": 0,
      "outputs": []
    },
    {
      "cell_type": "code",
      "metadata": {
        "id": "ClSqP59z1LLH",
        "colab_type": "code",
        "outputId": "9c35b8bf-b760-4386-cca5-fa669392bffa",
        "colab": {
          "base_uri": "https://localhost:8080/",
          "height": 87
        }
      },
      "source": [
        "csv_path = os.path.join(colab_root, \"starter.csv\")\n",
        "download_if_missing(\"https://storage.googleapis.com/applied-dl/mini-vqa/starter.csv\",\n",
        "                     csv_path)"
      ],
      "execution_count": 5,
      "outputs": [
        {
          "output_type": "stream",
          "text": [
            "Downloading data from https://storage.googleapis.com/applied-dl/mini-vqa/starter.csv\n",
            "9084928/9078552 [==============================] - 0s 0us/step\n"
          ],
          "name": "stdout"
        },
        {
          "output_type": "execute_result",
          "data": {
            "text/plain": [
              "'/content/starter.csv'"
            ]
          },
          "metadata": {
            "tags": []
          },
          "execution_count": 5
        }
      ]
    },
    {
      "cell_type": "markdown",
      "metadata": {
        "id": "xnb6-xze2F58",
        "colab_type": "text"
      },
      "source": [
        "### Download and unzip your thumbnails\n",
        "\n",
        "This file is small enough that you can quickly download it with this method."
      ]
    },
    {
      "cell_type": "code",
      "metadata": {
        "id": "4mrz3G3CxO3F",
        "colab_type": "code",
        "colab": {}
      },
      "source": [
        "# Your code here\n",
        "YOUR_THUMBNAILS_URL = \"https://storage.googleapis.com/vqa-hw4/thumbnails.zip\""
      ],
      "execution_count": 0,
      "outputs": []
    },
    {
      "cell_type": "code",
      "metadata": {
        "id": "dgMG4Rav8H_K",
        "colab_type": "code",
        "outputId": "2ee1b46b-8073-4eb7-aa00-6a87977cacbc",
        "colab": {
          "base_uri": "https://localhost:8080/",
          "height": 87
        }
      },
      "source": [
        "thumbnails_file = os.path.join(colab_root, \"thumbnails.zip\")\n",
        "images_folder = os.path.join(colab_root, 'thumbnails/')\n",
        "download_if_missing(YOUR_THUMBNAILS_URL,\n",
        "                    thumbnails_file,\n",
        "                    extract=False)"
      ],
      "execution_count": 7,
      "outputs": [
        {
          "output_type": "stream",
          "text": [
            "Downloading data from https://storage.googleapis.com/vqa-hw4/thumbnails.zip\n",
            "556507136/556501021 [==============================] - 9s 0us/step\n"
          ],
          "name": "stdout"
        },
        {
          "output_type": "execute_result",
          "data": {
            "text/plain": [
              "'/content/thumbnails.zip'"
            ]
          },
          "metadata": {
            "tags": []
          },
          "execution_count": 7
        }
      ]
    },
    {
      "cell_type": "code",
      "metadata": {
        "id": "OrOwi6gI4tW7",
        "colab_type": "code",
        "outputId": "6ff1c96b-06eb-4b66-8fa8-1c4207c505bf",
        "colab": {
          "base_uri": "https://localhost:8080/",
          "height": 54
        }
      },
      "source": [
        "! du -sh thumbnails.zip"
      ],
      "execution_count": 8,
      "outputs": [
        {
          "output_type": "stream",
          "text": [
            "531M\tthumbnails.zip\n"
          ],
          "name": "stdout"
        }
      ]
    },
    {
      "cell_type": "code",
      "metadata": {
        "id": "Manup0SxRKF3",
        "colab_type": "code",
        "colab": {}
      },
      "source": [
        "!unzip -q $thumbnails_file -d $images_folder"
      ],
      "execution_count": 0,
      "outputs": []
    },
    {
      "cell_type": "code",
      "metadata": {
        "id": "K9kw6tdtSHdI",
        "colab_type": "code",
        "outputId": "556a9d91-f059-48d7-b669-334243bc8a94",
        "colab": {
          "base_uri": "https://localhost:8080/",
          "height": 203
        }
      },
      "source": [
        "!ls $images_folder | head -10"
      ],
      "execution_count": 10,
      "outputs": [
        {
          "output_type": "stream",
          "text": [
            "COCO_train2014_000000000025.jpg\n",
            "COCO_train2014_000000000030.jpg\n",
            "COCO_train2014_000000000049.jpg\n",
            "COCO_train2014_000000000064.jpg\n",
            "COCO_train2014_000000000071.jpg\n",
            "COCO_train2014_000000000077.jpg\n",
            "COCO_train2014_000000000078.jpg\n",
            "COCO_train2014_000000000081.jpg\n",
            "COCO_train2014_000000000089.jpg\n",
            "COCO_train2014_000000000109.jpg\n"
          ],
          "name": "stdout"
        }
      ]
    },
    {
      "cell_type": "code",
      "metadata": {
        "id": "WyaAUjg-QhH2",
        "colab_type": "code",
        "colab": {}
      },
      "source": [
        ""
      ],
      "execution_count": 0,
      "outputs": []
    },
    {
      "cell_type": "markdown",
      "metadata": {
        "id": "ifotaRuEyPhR",
        "colab_type": "text"
      },
      "source": [
        "### Sanity check\n",
        "\n",
        "At this point, you have all the data you need to train your model (questions, answers, and images) in a convenient and easy to read format. \n",
        "\n",
        "Now would be a good time for another santity check. Write a block of code to iterate over the starter CSV file. For each image, make sure you can locate it on disk. E.g., \n",
        "\n",
        "``` \n",
        "for question, answer, image_name in data:\n",
        "  img_path = os.path.join(images_folder, image_name)\n",
        "  assert os.path.exists(img_path)\n",
        "```\n",
        "\n",
        "Since we're in a new notebook, again display a few questions, answers, and images - verify everything works as expected."
      ]
    },
    {
      "cell_type": "code",
      "metadata": {
        "id": "JyqY8UNsxmK8",
        "colab_type": "code",
        "colab": {}
      },
      "source": [
        "# Your code here\n",
        "import csv\n",
        "with open('starter.csv') as myfile:\n",
        "   reader = csv.reader(myfile, delimiter=',')\n",
        "   for row in reader:\n",
        "      question, answer, image = row\n",
        "      image = image.strip()\n",
        "      assert os.path.exists(os.path.join(\"thumbnails/\", image))"
      ],
      "execution_count": 0,
      "outputs": []
    },
    {
      "cell_type": "code",
      "metadata": {
        "id": "kWwuwZpJTYlv",
        "colab_type": "code",
        "colab": {}
      },
      "source": [
        "\n",
        "df = pd.read_csv(\"starter.csv\", header=None, names=['Q','A','Img'])\n",
        "a = df.Img.unique() "
      ],
      "execution_count": 0,
      "outputs": []
    },
    {
      "cell_type": "code",
      "metadata": {
        "id": "Xz1-fwAgE0nr",
        "colab_type": "code",
        "outputId": "0922d2b1-793f-452f-fd04-4a788b0b0c36",
        "colab": {
          "base_uri": "https://localhost:8080/",
          "height": 381
        }
      },
      "source": [
        "\n",
        "\n",
        "im = plt.imread(\"thumbnails/\"+a[0])\n",
        "plt.imshow(im)\n",
        "df[df.Img==a[0]][['Q','A']]"
      ],
      "execution_count": 13,
      "outputs": [
        {
          "output_type": "execute_result",
          "data": {
            "text/html": [
              "<div>\n",
              "<style scoped>\n",
              "    .dataframe tbody tr th:only-of-type {\n",
              "        vertical-align: middle;\n",
              "    }\n",
              "\n",
              "    .dataframe tbody tr th {\n",
              "        vertical-align: top;\n",
              "    }\n",
              "\n",
              "    .dataframe thead th {\n",
              "        text-align: right;\n",
              "    }\n",
              "</style>\n",
              "<table border=\"1\" class=\"dataframe\">\n",
              "  <thead>\n",
              "    <tr style=\"text-align: right;\">\n",
              "      <th></th>\n",
              "      <th>Q</th>\n",
              "      <th>A</th>\n",
              "    </tr>\n",
              "  </thead>\n",
              "  <tbody>\n",
              "    <tr>\n",
              "      <th>0</th>\n",
              "      <td>is the sky blue</td>\n",
              "      <td>yes</td>\n",
              "    </tr>\n",
              "    <tr>\n",
              "      <th>1</th>\n",
              "      <td>is there snow on the mountains</td>\n",
              "      <td>yes</td>\n",
              "    </tr>\n",
              "  </tbody>\n",
              "</table>\n",
              "</div>"
            ],
            "text/plain": [
              "                                Q    A\n",
              "0                 is the sky blue  yes\n",
              "1  is there snow on the mountains  yes"
            ]
          },
          "metadata": {
            "tags": []
          },
          "execution_count": 13
        },
        {
          "output_type": "display_data",
          "data": {
            "image/png": "[encoded data removed]",
            "text/plain": [
              "<Figure size 432x288 with 1 Axes>"
            ]
          },
          "metadata": {
            "tags": []
          }
        }
      ]
    },
    {
      "cell_type": "code",
      "metadata": {
        "id": "9A-F-6rHE7qf",
        "colab_type": "code",
        "outputId": "bb1db618-28bf-41c5-9e6b-a14401a6e4a7",
        "colab": {
          "base_uri": "https://localhost:8080/",
          "height": 412
        }
      },
      "source": [
        "im = plt.imread(\"thumbnails/\"+a[300])\n",
        "plt.imshow(im)\n",
        "df[df.Img==a[300]][['Q','A']]"
      ],
      "execution_count": 14,
      "outputs": [
        {
          "output_type": "execute_result",
          "data": {
            "text/html": [
              "<div>\n",
              "<style scoped>\n",
              "    .dataframe tbody tr th:only-of-type {\n",
              "        vertical-align: middle;\n",
              "    }\n",
              "\n",
              "    .dataframe tbody tr th {\n",
              "        vertical-align: top;\n",
              "    }\n",
              "\n",
              "    .dataframe thead th {\n",
              "        text-align: right;\n",
              "    }\n",
              "</style>\n",
              "<table border=\"1\" class=\"dataframe\">\n",
              "  <thead>\n",
              "    <tr style=\"text-align: right;\">\n",
              "      <th></th>\n",
              "      <th>Q</th>\n",
              "      <th>A</th>\n",
              "    </tr>\n",
              "  </thead>\n",
              "  <tbody>\n",
              "    <tr>\n",
              "      <th>996</th>\n",
              "      <td>would this be good for a job interview</td>\n",
              "      <td>yes</td>\n",
              "    </tr>\n",
              "    <tr>\n",
              "      <th>997</th>\n",
              "      <td>is this person a businessman</td>\n",
              "      <td>yes</td>\n",
              "    </tr>\n",
              "    <tr>\n",
              "      <th>998</th>\n",
              "      <td>is he married</td>\n",
              "      <td>no</td>\n",
              "    </tr>\n",
              "  </tbody>\n",
              "</table>\n",
              "</div>"
            ],
            "text/plain": [
              "                                          Q    A\n",
              "996  would this be good for a job interview  yes\n",
              "997            is this person a businessman  yes\n",
              "998                           is he married   no"
            ]
          },
          "metadata": {
            "tags": []
          },
          "execution_count": 14
        },
        {
          "output_type": "display_data",
          "data": {
            "image/png": "[encoded data removed]",
            "text/plain": [
              "<Figure size 432x288 with 1 Axes>"
            ]
          },
          "metadata": {
            "tags": []
          }
        }
      ]
    },
    {
      "cell_type": "code",
      "metadata": {
        "id": "gaJ_V5ZdFSZI",
        "colab_type": "code",
        "outputId": "5b3047c6-cd7d-4d6b-bab5-049f5f440b23",
        "colab": {
          "base_uri": "https://localhost:8080/",
          "height": 381
        }
      },
      "source": [
        "im = plt.imread(\"thumbnails/\"+a[200])\n",
        "plt.imshow(im)\n",
        "df[df.Img==a[200]][['Q','A']]"
      ],
      "execution_count": 15,
      "outputs": [
        {
          "output_type": "execute_result",
          "data": {
            "text/html": [
              "<div>\n",
              "<style scoped>\n",
              "    .dataframe tbody tr th:only-of-type {\n",
              "        vertical-align: middle;\n",
              "    }\n",
              "\n",
              "    .dataframe tbody tr th {\n",
              "        vertical-align: top;\n",
              "    }\n",
              "\n",
              "    .dataframe thead th {\n",
              "        text-align: right;\n",
              "    }\n",
              "</style>\n",
              "<table border=\"1\" class=\"dataframe\">\n",
              "  <thead>\n",
              "    <tr style=\"text-align: right;\">\n",
              "      <th></th>\n",
              "      <th>Q</th>\n",
              "      <th>A</th>\n",
              "    </tr>\n",
              "  </thead>\n",
              "  <tbody>\n",
              "    <tr>\n",
              "      <th>681</th>\n",
              "      <td>does the rider have short hair</td>\n",
              "      <td>no</td>\n",
              "    </tr>\n",
              "    <tr>\n",
              "      <th>682</th>\n",
              "      <td>is he surfing</td>\n",
              "      <td>no</td>\n",
              "    </tr>\n",
              "  </tbody>\n",
              "</table>\n",
              "</div>"
            ],
            "text/plain": [
              "                                  Q   A\n",
              "681  does the rider have short hair  no\n",
              "682                   is he surfing  no"
            ]
          },
          "metadata": {
            "tags": []
          },
          "execution_count": 15
        },
        {
          "output_type": "display_data",
          "data": {
            "image/png": "[encoded data removed]",
            "text/plain": [
              "<Figure size 432x288 with 1 Axes>"
            ]
          },
          "metadata": {
            "tags": []
          }
        }
      ]
    },
    {
      "cell_type": "markdown",
      "metadata": {
        "id": "EP0BexdF8NXH",
        "colab_type": "text"
      },
      "source": [
        "### Convert answers to numeric format\n",
        "\n",
        "The answers in the starter CSV are \"yes\" or \"no\". For convenience, now would be a good time to change those to 1.0 and 0.0."
      ]
    },
    {
      "cell_type": "code",
      "metadata": {
        "id": "VsvJHe1krz9R",
        "colab_type": "code",
        "outputId": "1496803e-2956-450d-fb70-23e5c74f86da",
        "colab": {
          "base_uri": "https://localhost:8080/",
          "height": 236
        }
      },
      "source": [
        "# Your code here\n",
        "# Convert the answers column in the starter CSV to 1.0 and 0.0\n",
        "# You do not need to update the CSV itself. If you have a data structure\n",
        "# in memory, you can work with that instead.\n",
        "df.A[df['A']=='yes']=1.0\n",
        "df.A[df['A']=='no']=0.0\n",
        "df.A"
      ],
      "execution_count": 16,
      "outputs": [
        {
          "output_type": "execute_result",
          "data": {
            "text/plain": [
              "0         1\n",
              "1         1\n",
              "2         1\n",
              "3         1\n",
              "4         0\n",
              "         ..\n",
              "140632    0\n",
              "140633    1\n",
              "140634    0\n",
              "140635    0\n",
              "140636    1\n",
              "Name: A, Length: 140637, dtype: object"
            ]
          },
          "metadata": {
            "tags": []
          },
          "execution_count": 16
        }
      ]
    },
    {
      "cell_type": "markdown",
      "metadata": {
        "id": "-4MdJ-1IHtn6",
        "colab_type": "text"
      },
      "source": [
        "### Convert image names to absolute paths\n",
        "\n",
        "Next, for convenience, it may be helpful to update the images column in the starter CSV from filenames ```COCO_train2014_000000320111.jpg``` to absolute paths ```/content/images/COCO_train2014_000000320111.jpg```. This will save you some code down the road when it comes time to open them up (you won't need to worry about the relationship between where the starter CSV file is stored, and your images folder)."
      ]
    },
    {
      "cell_type": "code",
      "metadata": {
        "id": "NDmL10PlHxpU",
        "colab_type": "code",
        "colab": {}
      },
      "source": [
        "# Your code here\n",
        "# Convert the image filenames in the starter CSV to absolute paths\n",
        "# You do not need to update the CSV itself. If you have a data structure\n",
        "# in memory, you can work with that instead.\n",
        "df['Name'] = '/content/thumbnails/'+df.Img"
      ],
      "execution_count": 0,
      "outputs": []
    },
    {
      "cell_type": "code",
      "metadata": {
        "id": "2O5yiB9MIvgZ",
        "colab_type": "code",
        "colab": {}
      },
      "source": [
        "b = df.Name.unique()"
      ],
      "execution_count": 0,
      "outputs": []
    },
    {
      "cell_type": "code",
      "metadata": {
        "id": "vGbXZ0MOJDs8",
        "colab_type": "code",
        "outputId": "8d0a7c6f-8a68-4d4f-aa3c-7aded08750e6",
        "colab": {
          "base_uri": "https://localhost:8080/",
          "height": 381
        }
      },
      "source": [
        "im = plt.imread(b[20])\n",
        "plt.imshow(im)\n",
        "df[df.Name==b[20]][['Q','A']]"
      ],
      "execution_count": 19,
      "outputs": [
        {
          "output_type": "execute_result",
          "data": {
            "text/html": [
              "<div>\n",
              "<style scoped>\n",
              "    .dataframe tbody tr th:only-of-type {\n",
              "        vertical-align: middle;\n",
              "    }\n",
              "\n",
              "    .dataframe tbody tr th {\n",
              "        vertical-align: top;\n",
              "    }\n",
              "\n",
              "    .dataframe thead th {\n",
              "        text-align: right;\n",
              "    }\n",
              "</style>\n",
              "<table border=\"1\" class=\"dataframe\">\n",
              "  <thead>\n",
              "    <tr style=\"text-align: right;\">\n",
              "      <th></th>\n",
              "      <th>Q</th>\n",
              "      <th>A</th>\n",
              "    </tr>\n",
              "  </thead>\n",
              "  <tbody>\n",
              "    <tr>\n",
              "      <th>64</th>\n",
              "      <td>is there a person standing in front of the tel...</td>\n",
              "      <td>1</td>\n",
              "    </tr>\n",
              "    <tr>\n",
              "      <th>65</th>\n",
              "      <td>is there enough room under the armchairs for a...</td>\n",
              "      <td>1</td>\n",
              "    </tr>\n",
              "  </tbody>\n",
              "</table>\n",
              "</div>"
            ],
            "text/plain": [
              "                                                    Q  A\n",
              "64  is there a person standing in front of the tel...  1\n",
              "65  is there enough room under the armchairs for a...  1"
            ]
          },
          "metadata": {
            "tags": []
          },
          "execution_count": 19
        },
        {
          "output_type": "display_data",
          "data": {
            "image/png": "[encoded data removed]",
            "text/plain": [
              "<Figure size 432x288 with 1 Axes>"
            ]
          },
          "metadata": {
            "tags": []
          }
        }
      ]
    },
    {
      "cell_type": "markdown",
      "metadata": {
        "id": "wqWvyk_54MEB",
        "colab_type": "text"
      },
      "source": [
        "### Shuffle and create a test set\n",
        "For this assignment, you do not need to download the COCO validation or test sets. Instead, shuffle your starter CSV, and use some of the rows as a test set (say, 4,000 rows). Move them to a separate CSV or data structure, and revisit them later. I realize some of the same images may appear in the train and test set (although with different questions). For this assignment, that's okay. If you prefer, you can write code to ensure the test set has unique images that do not appear in the train set."
      ]
    },
    {
      "cell_type": "code",
      "metadata": {
        "id": "rUeKcg8H4OH2",
        "colab_type": "code",
        "outputId": "34c9d301-d0e0-4caf-ddd6-e7d8dadbe60d",
        "colab": {
          "base_uri": "https://localhost:8080/",
          "height": 54
        }
      },
      "source": [
        "# Your code here\n",
        "# Shuffle the starter CSV\n",
        "# Remove 4,000 rows (or so) and move them to a separate file or data structure\n",
        "\n",
        "np.random.seed(200)\n",
        "random_code = list(range(len(df)))\n",
        "np.random.shuffle(random_code)\n",
        "df_test = df.iloc[random_code[:4000],]\n",
        "df_train = df.iloc[random_code[4000:],]\n",
        "len(df_train)"
      ],
      "execution_count": 20,
      "outputs": [
        {
          "output_type": "execute_result",
          "data": {
            "text/plain": [
              "136637"
            ]
          },
          "metadata": {
            "tags": []
          },
          "execution_count": 20
        }
      ]
    },
    {
      "cell_type": "markdown",
      "metadata": {
        "id": "QRCqCG4eNWzX",
        "colab_type": "text"
      },
      "source": [
        "### Limit the size of the dataset, and balance.\n",
        "\n",
        "The dataset is fairly large. Let's simplify and start small. Instead of working with +/-100,000 questions - a better number would be about 20,000 questions.\n",
        "\n",
        "As a suggestion, you may also want to balance the data (so you have an equal number of positive and negative questions), just to make it a bit easier to debug your model and verify it's training as expected."
      ]
    },
    {
      "cell_type": "code",
      "metadata": {
        "id": "wcH6-VCnwmSK",
        "colab_type": "code",
        "colab": {}
      },
      "source": [
        "# Your code here\n",
        "# Limit the size of the starter CSV to 20,000 rows\n",
        "# Balance the data (so you have an equal number of \"yes\" and \"no\" answers) \n",
        "# in your 20,000 rows\n",
        "\n",
        "df1 = df_train[df_train.A==1][:10000]\n",
        "df2 = df_train[df_train.A==0][:10000]\n",
        "df_short = df1.append(df2, ignore_index=True)"
      ],
      "execution_count": 0,
      "outputs": []
    },
    {
      "cell_type": "code",
      "metadata": {
        "id": "DR5amGVIydBW",
        "colab_type": "code",
        "outputId": "6f745a4e-b4bc-4944-e2e9-070ad213ae5c",
        "colab": {
          "base_uri": "https://localhost:8080/",
          "height": 54
        }
      },
      "source": [
        "# check the length of training dataset\n",
        "len(df_short)"
      ],
      "execution_count": 22,
      "outputs": [
        {
          "output_type": "execute_result",
          "data": {
            "text/plain": [
              "20000"
            ]
          },
          "metadata": {
            "tags": []
          },
          "execution_count": 22
        }
      ]
    },
    {
      "cell_type": "code",
      "metadata": {
        "id": "DzSdQ2Ll1myr",
        "colab_type": "code",
        "outputId": "04e72df0-545a-43a1-a49f-5ec5cf713a0b",
        "colab": {
          "base_uri": "https://localhost:8080/",
          "height": 104
        }
      },
      "source": [
        "# check the number of \"yes\" and \"no\"\n",
        "df_short.groupby(['A']).size()"
      ],
      "execution_count": 23,
      "outputs": [
        {
          "output_type": "execute_result",
          "data": {
            "text/plain": [
              "A\n",
              "0.0    10000\n",
              "1.0    10000\n",
              "dtype: int64"
            ]
          },
          "metadata": {
            "tags": []
          },
          "execution_count": 23
        }
      ]
    },
    {
      "cell_type": "markdown",
      "metadata": {
        "id": "fmSXbHqrfdFJ",
        "colab_type": "text"
      },
      "source": [
        "### Create training and validation sets\n",
        "You may want to do an 80:20 split on your balanced training set, giving you 16,000 training rows, and 4,000 validation rows."
      ]
    },
    {
      "cell_type": "code",
      "metadata": {
        "id": "cMto3Q1rxcQ4",
        "colab_type": "code",
        "colab": {}
      },
      "source": [
        "# Your code here\n",
        "# The scikit-learn utilities (train_test_split) are your friend\n",
        " df_train, df_validation = train_test_split(df_short, test_size = 0.2) \n"
      ],
      "execution_count": 0,
      "outputs": []
    },
    {
      "cell_type": "markdown",
      "metadata": {
        "id": "Od0Q5SzEzd8C",
        "colab_type": "text"
      },
      "source": [
        "### Verify your train and validation sets look as expected\n",
        "You cannot spend too much time exploring the data. When I'm developing code for something like this on my own, I often run methods to verify that these splits have the number of rows I expect, to display a few images from each, and to see stats on the class balance. I also write code to verify the splits contain *only* yes/no answers. You may be tired of coding defensively at this point, but I assure you (especially when working with new and increasingly complicated datasets, this effort **always** pays off)."
      ]
    },
    {
      "cell_type": "code",
      "metadata": {
        "id": "vv7Dto11-Zoo",
        "colab_type": "code",
        "outputId": "366f5fd2-4632-4f40-ea10-dbc1ef93f441",
        "colab": {
          "base_uri": "https://localhost:8080/",
          "height": 54
        }
      },
      "source": [
        " len(df_train)"
      ],
      "execution_count": 25,
      "outputs": [
        {
          "output_type": "execute_result",
          "data": {
            "text/plain": [
              "16000"
            ]
          },
          "metadata": {
            "tags": []
          },
          "execution_count": 25
        }
      ]
    },
    {
      "cell_type": "code",
      "metadata": {
        "id": "xM2QE6aA-ht7",
        "colab_type": "code",
        "outputId": "bab3f27e-d5db-48ef-a10f-99b934869699",
        "colab": {
          "base_uri": "https://localhost:8080/",
          "height": 54
        }
      },
      "source": [
        "len(df_validation)"
      ],
      "execution_count": 26,
      "outputs": [
        {
          "output_type": "execute_result",
          "data": {
            "text/plain": [
              "4000"
            ]
          },
          "metadata": {
            "tags": []
          },
          "execution_count": 26
        }
      ]
    },
    {
      "cell_type": "markdown",
      "metadata": {
        "id": "8ITEBFcQRqdm",
        "colab_type": "text"
      },
      "source": [
        "\n",
        "### Forward your images through InceptionV3, and cache activations to disk\n",
        "\n",
        "Rather than training a CNN from scratch for your VQA model, you'll begin by using activations from a pretrained model.  \n",
        "\n",
        "* Instead of forward each image repeatedly through the model while training (which will be slow), let's do that once and save the activations to disk. \n",
        "\n",
        "* We're saving them to disk (rather than keeping them in memory) to accomodate different sizes of datasets down the road.\n",
        "\n",
        "I've written a good deal of this code for you, but you should go through it and carefully understand how it works."
      ]
    },
    {
      "cell_type": "code",
      "metadata": {
        "id": "hbMdRBX8TY5X",
        "colab_type": "code",
        "colab": {
          "base_uri": "https://localhost:8080/",
          "height": 71
        },
        "outputId": "759572b5-1f7e-4628-bb61-785d04790f7c"
      },
      "source": [
        "# Create a feature extraction model.\n",
        "# You should not need to modify this (though you may, if you'd like\n",
        "# to use a model other than Inception).\n",
        "image_model = tf.keras.applications.InceptionV3(include_top=False,\n",
        "                                                weights='imagenet')\n",
        "new_input = image_model.input\n",
        "hidden_layer = image_model.layers[-1].output\n",
        "image_features_extract_model = tf.keras.Model(new_input, hidden_layer)"
      ],
      "execution_count": 27,
      "outputs": [
        {
          "output_type": "stream",
          "text": [
            "Downloading data from https://github.com/fchollet/deep-learning-models/releases/download/v0.5/inception_v3_weights_tf_dim_ordering_tf_kernels_notop.h5\n",
            "87916544/87910968 [==============================] - 3s 0us/step\n"
          ],
          "name": "stdout"
        }
      ]
    },
    {
      "cell_type": "code",
      "metadata": {
        "id": "QW0drXDAQu3c",
        "colab_type": "code",
        "colab": {}
      },
      "source": [
        "# A method to load an image off disk, and extract activations using \n",
        "# the model above. You should not need to modify this.\n",
        "def image_to_activations(image_path):\n",
        "  img = tf.io.read_file(image_path)\n",
        "  img = tf.image.decode_jpeg(img, channels=3)\n",
        "  img = tf.image.resize(img, (299, 299))\n",
        "  activations = tf.keras.applications.inception_v3.preprocess_input(img)\n",
        "  return activations, image_path"
      ],
      "execution_count": 0,
      "outputs": []
    },
    {
      "cell_type": "code",
      "metadata": {
        "id": "V2_1Ili7y3Fj",
        "colab_type": "code",
        "outputId": "a64fdaf4-0547-45e4-9507-6a6ad77514c7",
        "colab": {
          "base_uri": "https://localhost:8080/",
          "height": 71
        }
      },
      "source": [
        "# Your code here\n",
        "\n",
        "# You'll need to extract activations for every image in your train, validation,\n",
        "# and test set. First, create a set of the absolute paths to all of these images \n",
        "# (image_path_set). Populate this with the absolute paths to all these images.\n",
        "image_path_set = set(df_test['Name']) | set(df_train['Name']) | set(df_validation['Name']) \n",
        "#image_to_activations(image_path_set)\n",
        "\n",
        "print(\"Images to preprocess\", len(image_path_set))\n",
        "print(\"This make take a few minutes\")\n"
      ],
      "execution_count": 29,
      "outputs": [
        {
          "output_type": "stream",
          "text": [
            "Images to preprocess 18169\n",
            "This make take a few minutes\n"
          ],
          "name": "stdout"
        }
      ]
    },
    {
      "cell_type": "code",
      "metadata": {
        "id": "hb9XjL8QWzuZ",
        "colab_type": "code",
        "colab": {}
      },
      "source": [
        "# This cell will extract activations for each image and save them to disk \n",
        "# in NumPy format. You should not need to modify this.\n",
        "\n",
        "# Note: we're not saving these activations to the cloud,\n",
        "# but you certainly could if you wanted to skip this step \n",
        "# in the future. If you look into doing that, it's best to save one large\n",
        "# zip with the activations, and download that and extract it locally\n",
        "# (rather than doing a bunch of network access to retrieve individual files),\n",
        "# especially when training your model.\n",
        "\n",
        "# Create a dataset to load each image off disk, and extract activations\n",
        "activation_dataset = tf.data.Dataset.from_tensor_slices(list(image_path_set))\n",
        "activation_dataset = activation_dataset.map(\n",
        "  image_to_activations, \n",
        "  num_parallel_calls=tf.data.experimental.AUTOTUNE).batch(32)\n",
        "\n",
        "# Save all activations to disk in NumPy format\n",
        "for img_batch, path_batch in activation_dataset:\n",
        "  batch_features = image_features_extract_model(img_batch)\n",
        "  for bf, p in zip(batch_features, path_batch):\n",
        "    path_of_feature = p.numpy().decode(\"utf-8\")\n",
        "    np.save(path_of_feature, bf.numpy())  "
      ],
      "execution_count": 0,
      "outputs": []
    },
    {
      "cell_type": "markdown",
      "metadata": {
        "id": "5-Rb4DsORTui",
        "colab_type": "text"
      },
      "source": [
        "### Create lists of questions, answers, and images for your train, validation, and test set\n",
        "\n",
        "At this point, you may be reading your starter CSV directly from disk, or you may have your own data structure in memory. Since many of the methods we'll call from this point forward take lists as input, you may find it helpful to create a data structure with three lists, that correspond to the columns from your starter CSV."
      ]
    },
    {
      "cell_type": "code",
      "metadata": {
        "id": "VoIgQUwkR3PD",
        "colab_type": "code",
        "colab": {}
      },
      "source": [
        "# Your code here. Populate these for your training set.\n",
        "questions_train = df_train.Q # a list of absolute paths to images in your training set\n",
        "answers_train = df_train.A # a list of questions in your training set\n",
        "images_train = df_train.Name # a list of answers (in numeric format) in your training set\n",
        "\n",
        "# The order of these lists should match (e.g. the question, answer, and image \n",
        "# from row i of your train split of the starter CSV should be \n",
        "# questions_train[i], answers_train[i], images_train[i])."
      ],
      "execution_count": 0,
      "outputs": []
    },
    {
      "cell_type": "code",
      "metadata": {
        "id": "bLtOogc3R3bW",
        "colab_type": "code",
        "colab": {}
      },
      "source": [
        "# Your code here. Populate these for your validation set.\n",
        "questions_val = df_validation.Q\n",
        "answers_val = df_validation.A\n",
        "images_val = df_validation.Name"
      ],
      "execution_count": 0,
      "outputs": []
    },
    {
      "cell_type": "code",
      "metadata": {
        "id": "arUBA1CcR3lS",
        "colab_type": "code",
        "colab": {}
      },
      "source": [
        "# Your code here. Populate these for your test set\n",
        "questions_test = df_test.Q\n",
        "answers_test = df_test.A\n",
        "images_test = df_test.Name"
      ],
      "execution_count": 0,
      "outputs": []
    },
    {
      "cell_type": "markdown",
      "metadata": {
        "id": "nTkz5C9eb1Ic",
        "colab_type": "text"
      },
      "source": [
        "### Create and fit a tokenizer\n",
        "\n",
        "Your model will use a LSTM to process the questions. First, you'll need to vectorize your text. Tokenize the questions, and limit the vocabulary size to a reasonable size (for example, the top 3,000 words). A larger size will make a higher accuracy possible, but complicate and slow your model. Reminder: fit the tokenizer only on the training questions."
      ]
    },
    {
      "cell_type": "code",
      "metadata": {
        "id": "DYElFeEKxE3e",
        "colab_type": "code",
        "colab": {}
      },
      "source": [
        "# Your code here\n",
        "VOCAB_SIZE = 3000"
      ],
      "execution_count": 0,
      "outputs": []
    },
    {
      "cell_type": "code",
      "metadata": {
        "id": "u4myZY6zxDwJ",
        "colab_type": "code",
        "colab": {
          "base_uri": "https://localhost:8080/",
          "height": 54
        },
        "outputId": "2c5d933f-1504-4115-c6a9-8f1c0ff9a359"
      },
      "source": [
        "# You should not need to modify this code\n",
        "tokenizer = tf.keras.preprocessing.text.Tokenizer(num_words=VOCAB_SIZE)\n",
        "tokenizer.fit_on_texts(questions_train)\n",
        "\n",
        "# Note, the tokenizer's word_index will not respect VOCAB_SIZE.\n",
        "# but, that parameter will be respected in later methods,\n",
        "# (for example, when you call text_to_sequences).\n",
        "# Also note that '0' is a reserved index for padding.\n",
        "print(\"Word index\", len(tokenizer.word_index))"
      ],
      "execution_count": 53,
      "outputs": [
        {
          "output_type": "stream",
          "text": [
            "Word index 4751\n"
          ],
          "name": "stdout"
        }
      ]
    },
    {
      "cell_type": "markdown",
      "metadata": {
        "id": "4Gvj1ZE-fTrP",
        "colab_type": "text"
      },
      "source": [
        "### Vectorize the questions\n",
        "In this section, you will use your tokenizer to vectorize the questions using ```texts_to_sequences```. For an example of texts_to_sequences, see this [notebook](https://github.com/fchollet/deep-learning-with-python-notebooks/blob/master/6.1-one-hot-encoding-of-words-or-characters.ipynb).\n"
      ]
    },
    {
      "cell_type": "code",
      "metadata": {
        "id": "NhQu6yZhfi7K",
        "colab_type": "code",
        "colab": {}
      },
      "source": [
        "# Your code here\n",
        "# Use the texts_to_sequences utility to vectorize your training, \n",
        "# validation, and test questions. \n",
        "\n",
        "# To follow along with the starter code below, you should use\n",
        "# these naming conventions\n",
        "\n",
        "sequences_train = tokenizer.texts_to_sequences(questions_train)\n",
        "sequences_val = tokenizer.texts_to_sequences(questions_val)\n",
        "sequences_test = tokenizer.texts_to_sequences(questions_test)"
      ],
      "execution_count": 0,
      "outputs": []
    },
    {
      "cell_type": "markdown",
      "metadata": {
        "id": "iiDIdjpY6FHO",
        "colab_type": "text"
      },
      "source": [
        "### Pad sequences\n",
        "\n",
        "In this section, you will pad the vectorized questions using ```pad_sequences```. Your maximum sequence length is a design decision, just like vocab size. Advice, start with something short, so your model trains faster (maybe, between 10 and 20).\n",
        "\n",
        "For an example of pad_sequences, see this [notebook](https://github.com/fchollet/deep-learning-with-python-notebooks/blob/master/6.2-understanding-recurrent-neural-networks.ipynb)."
      ]
    },
    {
      "cell_type": "code",
      "metadata": {
        "id": "s7KqB0-t0vci",
        "colab_type": "code",
        "colab": {}
      },
      "source": [
        "# Your code here\n",
        "# To choose a reasonable sequence length, examine the length of all the \n",
        "# tokenized questions in the training set (in words).\n",
        "# Justify your choice, e.g. you should note that percentage of the \n",
        "# training questions that fall under that length (and will not be trimmed), \n",
        "# and the number of questions that will be.\n",
        "seq_length ={}\n",
        "for i in range(len(sequences_train)):\n",
        "  seq_length[i]=len(sequences_train[i])"
      ],
      "execution_count": 0,
      "outputs": []
    },
    {
      "cell_type": "code",
      "metadata": {
        "id": "tqgmSiLzeY41",
        "colab_type": "code",
        "colab": {
          "base_uri": "https://localhost:8080/",
          "height": 54
        },
        "outputId": "8190ab47-4a13-441b-dff9-b79fe8d120a2"
      },
      "source": [
        "# Your code here\n",
        "MAX_SEQ_LEN = max(seq_length.values()) \n",
        "MAX_SEQ_LEN"
      ],
      "execution_count": 111,
      "outputs": [
        {
          "output_type": "execute_result",
          "data": {
            "text/plain": [
              "20"
            ]
          },
          "metadata": {
            "tags": []
          },
          "execution_count": 111
        }
      ]
    },
    {
      "cell_type": "markdown",
      "metadata": {
        "id": "8Vnm1CrDQI3L",
        "colab_type": "text"
      },
      "source": [
        "I stored all the length of tokenized questions and got the max lengh is 20."
      ]
    },
    {
      "cell_type": "code",
      "metadata": {
        "id": "k66XWHrPdlKA",
        "colab_type": "code",
        "colab": {}
      },
      "source": [
        "# Your code here\n",
        "# Use the pad_sequences utility to pad your training, \n",
        "# validation, and test questions.\n",
        "\n",
        "# To follow along with the rest of the statter code, you can use these\n",
        "# naming conventions\n",
        "\n",
        "padded_train = tf.keras.preprocessing.sequence.pad_sequences(sequences_train, maxlen=MAX_SEQ_LEN)\n",
        "padded_val = tf.keras.preprocessing.sequence.pad_sequences(sequences_val, maxlen=MAX_SEQ_LEN)\n",
        "padded_test = tf.keras.preprocessing.sequence.pad_sequences(sequences_test, maxlen=MAX_SEQ_LEN)\n"
      ],
      "execution_count": 0,
      "outputs": []
    },
    {
      "cell_type": "markdown",
      "metadata": {
        "id": "DCKOXMDwTvtE",
        "colab_type": "text"
      },
      "source": [
        "### Sanity check\n",
        "You've just done a **bunch** of preprocessing. Optionally, now would be a good time to write a block of code to verify the tokenized and padded sequences are in the format you expect."
      ]
    },
    {
      "cell_type": "code",
      "metadata": {
        "id": "jp9Wwup-T3aj",
        "colab_type": "code",
        "colab": {
          "base_uri": "https://localhost:8080/",
          "height": 87
        },
        "outputId": "c94d7275-f9ad-4d78-fbea-b10ce1e4b930"
      },
      "source": [
        "# Your code here (optional).\n",
        "# Since you have a word_index from the tokenizer, you may \n",
        "# also want to write code to convert from a vectorized question\n",
        "# back to a string.\n",
        "print('padded_train shape:', padded_train.shape)\n",
        "print('padded_val shape:', padded_val.shape)\n",
        "print('padded_test shape:', padded_test.shape)"
      ],
      "execution_count": 122,
      "outputs": [
        {
          "output_type": "stream",
          "text": [
            "padded_train shape: (16000, 20)\n",
            "padded_val shape: (4000, 20)\n",
            "padded_test shape: (4000, 20)\n"
          ],
          "name": "stdout"
        }
      ]
    },
    {
      "cell_type": "code",
      "metadata": {
        "id": "zobL159vEs2c",
        "colab_type": "code",
        "colab": {}
      },
      "source": [
        ""
      ],
      "execution_count": 0,
      "outputs": []
    },
    {
      "cell_type": "markdown",
      "metadata": {
        "id": "7wocaXqRkZa_",
        "colab_type": "text"
      },
      "source": [
        "### Create a tf.dataset for training, validation, and testing\n",
        "\n",
        "The method to create the dataset is provided for you, though you will need to get it working by passing the ```padded_train```, ```answers_train``` ```and images_train``` lists you created above.\n",
        "\n",
        "\n"
      ]
    },
    {
      "cell_type": "code",
      "metadata": {
        "id": "SK46QgJ7fsiO",
        "colab_type": "code",
        "colab": {}
      },
      "source": [
        "# You should not need to modify this.\n",
        "BATCH_SIZE = 32\n",
        "BUFFER_SIZE = 1000"
      ],
      "execution_count": 0,
      "outputs": []
    },
    {
      "cell_type": "code",
      "metadata": {
        "id": "_HoznUX469tT",
        "colab_type": "code",
        "colab": {}
      },
      "source": [
        "# You should not need to modify this.\n",
        "# Load cached activations off disk.\n",
        "def load_np(img_path, question, answer):\n",
        "  activations = np.load(img_path.decode('utf-8')+'.npy')\n",
        "  return activations, question, answer, img_path"
      ],
      "execution_count": 0,
      "outputs": []
    },
    {
      "cell_type": "code",
      "metadata": {
        "id": "SS1JpUNV65cE",
        "colab_type": "code",
        "colab": {}
      },
      "source": [
        "# You should not need to modify this.\n",
        "\n",
        "# This method will create a dataset that returns four elements.\n",
        "# - a batch of activations (loaded from disk)\n",
        "# - a batch of padded questions\n",
        "# - a batch of numeric answers\n",
        "# - a batch of absolute paths to the corresponding images\n",
        "def create_dataset(images, sequences, answers):\n",
        "  dataset = tf.data.Dataset.from_tensor_slices((images, \n",
        "                                                sequences, \n",
        "                                                answers))\n",
        "  # TODO jbgordon@: rewrite this to be clearer\n",
        "  # Load the cached activations off disk\n",
        "  dataset = dataset.map(lambda x, y, z: tf.numpy_function(\n",
        "      load_np, [x, y, z], [tf.float32, tf.int32, tf.float32, tf.string]),\n",
        "      num_parallel_calls=tf.data.experimental.AUTOTUNE)\n",
        "  \n",
        "  # Shuffle and batch\n",
        "  dataset = dataset.shuffle(BUFFER_SIZE).batch(BATCH_SIZE)\n",
        "  dataset = dataset.prefetch(buffer_size=tf.data.experimental.AUTOTUNE)\n",
        "  return dataset"
      ],
      "execution_count": 0,
      "outputs": []
    },
    {
      "cell_type": "code",
      "metadata": {
        "id": "XAr49L-1D0pW",
        "colab_type": "code",
        "colab": {}
      },
      "source": [
        "# Your code here\n",
        "\n",
        "# Call the above method to create train, val, and test datasets.\n",
        "# If you want to follow along with the starter code, I suggest these\n",
        "# variable names:\n",
        "\n",
        "train_ds = create_dataset(images_train, padded_train, answers_train)\n",
        "val_ds = create_dataset(images_val, padded_val, answers_val)\n",
        "test_ds = create_dataset(images_test, padded_test, answers_test)"
      ],
      "execution_count": 0,
      "outputs": []
    },
    {
      "cell_type": "markdown",
      "metadata": {
        "id": "AA3D5qNfVWSs",
        "colab_type": "text"
      },
      "source": [
        "### Sanity check (optional)\n",
        "That dataset creation method is complicated. Write a block of code that demonstrates how to use the dataset (e.g., retrieve a batch of activations, questions, answeres, and images paths) and verify they look as expected."
      ]
    },
    {
      "cell_type": "code",
      "metadata": {
        "id": "bS0KjlYM7UKV",
        "colab_type": "code",
        "colab": {
          "base_uri": "https://localhost:8080/",
          "height": 54
        },
        "outputId": "29babea5-ccde-4ec1-b432-ac2cf92d5bd1"
      },
      "source": [
        "# Your code here (optional)\n",
        "# Verify your datasets are working properly\n",
        "\n",
        "# Here is code you can use to quickly retrieve a batch of data\n",
        "\n",
        "my_iterator = iter(train_ds)\n",
        "activations_batch, questions_batch, answers_batch, paths_batch = next(my_iterator)\n",
        "\n",
        "print(activations_batch.shape, questions_batch.shape, answers_batch.shape, paths_batch.shape)\n",
        "\n",
        "# print(activations_batch, \n",
        "#       questions_batch, \n",
        "#       answers_batch, \n",
        "#       paths_batch)"
      ],
      "execution_count": 127,
      "outputs": [
        {
          "output_type": "stream",
          "text": [
            "(32, 8, 8, 2048) (32, 20) (32,) (32,)\n"
          ],
          "name": "stdout"
        }
      ]
    },
    {
      "cell_type": "markdown",
      "metadata": {
        "id": "9Z7a9VExmj_5",
        "colab_type": "text"
      },
      "source": [
        "### Define your VQA model\n",
        "\n",
        "You can base your code off the example give toward bottom of this [guide](https://keras.io/getting-started/functional-api-guide/) (but use a smaller model to start). Aim for a couple hundred thousand parameters or so"
      ]
    },
    {
      "cell_type": "code",
      "metadata": {
        "id": "vIjyol_olOxx",
        "colab_type": "code",
        "colab": {}
      },
      "source": [
        "from tensorflow.keras.layers import Dense, Embedding, Flatten, Input, LSTM\n",
        "from tensorflow.keras.models import Model, Sequential"
      ],
      "execution_count": 0,
      "outputs": []
    },
    {
      "cell_type": "code",
      "metadata": {
        "id": "bUOdkiOemwPZ",
        "colab_type": "code",
        "colab": {}
      },
      "source": [
        "# Your code here\n",
        "# Below is starter code for your model for you to complete.\n",
        "# See https://keras.io/getting-started/functional-api-guide/ for the idea.\n",
        "# The vision model is written for you. You will need to write the question\n",
        "# model.\n",
        "\n",
        "# Input to your vision model (activations from Inception-V3,\n",
        "# loaded off disk disk by the dataset above).\n",
        "image_input = Input(shape=(8, 8, 2048)) \n",
        "vision_model = Sequential()\n",
        "# Used to reduce the number of parameters (rather using a dense layer here).\n",
        "vision_model.add(tf.keras.layers.GlobalAveragePooling2D())\n",
        "# Output of your vision model\n",
        "encoded_image = vision_model(image_input) \n",
        "\n",
        "# Your code here\n",
        "# Write your test processing model that takes the vectorized and padded\n",
        "# question as input.\n",
        "# As in the guide above, you will want to produce an `encoded_question`\n",
        "# as output\n",
        "\n",
        "question_input = Input(shape=(MAX_SEQ_LEN,), dtype='int32')\n",
        "embedded_question = Embedding(input_dim=10000, output_dim=256, input_length=MAX_SEQ_LEN)(question_input)\n",
        "encoded_question = LSTM(256)(embedded_question)\n",
        "\n",
        "\n",
        "# Concatenate the encoded image and question\n",
        "merged = tf.keras.layers.concatenate([encoded_image, encoded_question])\n",
        "\n",
        "# Optionally, add a small dense layer\n",
        "dense = Dense(10, activation='sigmoid')(merged)\n",
        "\n",
        "# Next, add a binary classifier on top\n",
        "output = Dense(1, activation='sigmoid')(dense)\n",
        "\n",
        "# Your final model\n",
        "model = Model(inputs=[image_input, question_input], outputs=output)"
      ],
      "execution_count": 0,
      "outputs": []
    },
    {
      "cell_type": "code",
      "metadata": {
        "id": "Bc5OEmXsp4CH",
        "colab_type": "code",
        "colab": {
          "base_uri": "https://localhost:8080/",
          "height": 451
        },
        "outputId": "abc8df3a-d122-4c57-b1b1-7f5e506f41f1"
      },
      "source": [
        "model.summary()"
      ],
      "execution_count": 148,
      "outputs": [
        {
          "output_type": "stream",
          "text": [
            "Model: \"model_7\"\n",
            "__________________________________________________________________________________________________\n",
            "Layer (type)                    Output Shape         Param #     Connected to                     \n",
            "==================================================================================================\n",
            "input_25 (InputLayer)           [(None, 20)]         0                                            \n",
            "__________________________________________________________________________________________________\n",
            "input_24 (InputLayer)           [(None, 8, 8, 2048)] 0                                            \n",
            "__________________________________________________________________________________________________\n",
            "embedding_11 (Embedding)        (None, 20, 256)      2560000     input_25[0][0]                   \n",
            "__________________________________________________________________________________________________\n",
            "sequential_11 (Sequential)      (None, 2048)         0           input_24[0][0]                   \n",
            "__________________________________________________________________________________________________\n",
            "lstm_11 (LSTM)                  (None, 256)          525312      embedding_11[0][0]               \n",
            "__________________________________________________________________________________________________\n",
            "concatenate_13 (Concatenate)    (None, 2304)         0           sequential_11[0][0]              \n",
            "                                                                 lstm_11[0][0]                    \n",
            "__________________________________________________________________________________________________\n",
            "dense_14 (Dense)                (None, 10)           23050       concatenate_13[0][0]             \n",
            "__________________________________________________________________________________________________\n",
            "dense_15 (Dense)                (None, 1)            11          dense_14[0][0]                   \n",
            "==================================================================================================\n",
            "Total params: 3,108,373\n",
            "Trainable params: 3,108,373\n",
            "Non-trainable params: 0\n",
            "__________________________________________________________________________________________________\n"
          ],
          "name": "stdout"
        }
      ]
    },
    {
      "cell_type": "code",
      "metadata": {
        "id": "-XcTtLlPoHjR",
        "colab_type": "code",
        "colab": {}
      },
      "source": [
        "model.compile(optimizer='adam', \n",
        "              loss='binary_crossentropy',\n",
        "              metrics=['accuracy'])"
      ],
      "execution_count": 0,
      "outputs": []
    },
    {
      "cell_type": "markdown",
      "metadata": {
        "id": "cITtsogNXvgp",
        "colab_type": "text"
      },
      "source": [
        "### Plot your model\n",
        "Create a schematic that shows the graph of your model, using [plot_model](https://keras.io/visualization/). This can be helpful to ensure the vision and question paths look at expected (it's also super cool, and more informative than .summary)."
      ]
    },
    {
      "cell_type": "code",
      "metadata": {
        "id": "tPYyzzf2XxbX",
        "colab_type": "code",
        "colab": {
          "base_uri": "https://localhost:8080/",
          "height": 585
        },
        "outputId": "5fa7b89f-fb30-4627-e732-ada83a3b7e14"
      },
      "source": [
        "# You should not need to modify this.\n",
        "from tensorflow.keras.utils import plot_model\n",
        "plot_model(model, to_file='model.png')"
      ],
      "execution_count": 150,
      "outputs": [
        {
          "output_type": "execute_result",
          "data": {
            "image/png": "[encoded data removed]",
            "text/plain": [
              "<IPython.core.display.Image object>"
            ]
          },
          "metadata": {
            "tags": []
          },
          "execution_count": 150
        }
      ]
    },
    {
      "cell_type": "markdown",
      "metadata": {
        "id": "WytdlCrO6iaq",
        "colab_type": "text"
      },
      "source": [
        "### Fit your model on a single batch\n",
        "Before training on your entire dataset, a helpful first step is to train repeatedly on a single batch, and verify the loss goes to zero. If your model is working properly, it should be able to memorize a batch of data. We will use ```model.train_on_batch``` for this."
      ]
    },
    {
      "cell_type": "code",
      "metadata": {
        "colab_type": "code",
        "id": "hvpBQv9Z9HlH",
        "colab": {}
      },
      "source": [
        "# You should not nee to modify this.\n",
        "# Retrieve a batch of data from your train dataset\n",
        "activations_batch, questions_batch, answers_batch, paths_batch = next(iter(train_ds))"
      ],
      "execution_count": 0,
      "outputs": []
    },
    {
      "cell_type": "code",
      "metadata": {
        "id": "vE-qMn5dgeYq",
        "colab_type": "code",
        "colab": {}
      },
      "source": [
        "# Your code here\n",
        "\n",
        "# Train them model repeatedly using model.train_on_batch\n",
        "# Verify the loss goes to zero after +/- 100 training steps.\n",
        "# If it does not, now would be a great time to debug \n",
        "# before proceeding further.\n",
        "\n",
        "# metrics is a list (loss is metrics[0], accuracy is metrics[1])\n",
        "\n",
        "loss = []\n",
        "accuracy = []\n",
        "for i in range(100):\n",
        "    metrics = model.train_on_batch(x=[activations_batch, questions_batch], y = answers_batch)\n",
        "    loss.append(metrics[0])\n",
        "    accuracy.append(metrics[1])\n"
      ],
      "execution_count": 0,
      "outputs": []
    },
    {
      "cell_type": "code",
      "metadata": {
        "id": "u7KHYNTujE1f",
        "colab_type": "code",
        "colab": {
          "base_uri": "https://localhost:8080/",
          "height": 301
        },
        "outputId": "92a54d8a-b2d9-4031-ec08-c4c6a4173207"
      },
      "source": [
        "plt.plot(range(100), loss, 'bo', label='Training acc')\n",
        "plt.plot(range(100), accuracy, 'b', label ='Training loss')\n",
        "plt.title('Training loss and accuracy on epoches')\n",
        "plt.show()"
      ],
      "execution_count": 197,
      "outputs": [
        {
          "output_type": "display_data",
          "data": {
            "image/png": "[encoded data removed]",
            "text/plain": [
              "<Figure size 432x288 with 1 Axes>"
            ]
          },
          "metadata": {
            "tags": []
          }
        }
      ]
    },
    {
      "cell_type": "markdown",
      "metadata": {
        "id": "02reDBJKtCk8",
        "colab_type": "text"
      },
      "source": [
        "### Use your model to make predictions on the same batch above\n",
        "Compare the predicted answer to the label. Verify they match."
      ]
    },
    {
      "cell_type": "code",
      "metadata": {
        "id": "yaIEX9AJnRTn",
        "colab_type": "code",
        "colab": {
          "base_uri": "https://localhost:8080/",
          "height": 566
        },
        "outputId": "05d26517-3f4e-4c38-e670-b56f25749013"
      },
      "source": [
        "# You should not need to modify this, but you will want to \n",
        "# carefully inspect the output.\n",
        "for prediction, answer in zip(model.predict(x=[activations_batch, questions_batch]), answers_batch):\n",
        "  print(prediction, answer.numpy())"
      ],
      "execution_count": 154,
      "outputs": [
        {
          "output_type": "stream",
          "text": [
            "[0.6457254] 0.0\n",
            "[0.6410475] 1.0\n",
            "[0.68251586] 1.0\n",
            "[0.6697786] 0.0\n",
            "[0.64510536] 1.0\n",
            "[0.68019706] 0.0\n",
            "[0.6606147] 0.0\n",
            "[0.6795362] 0.0\n",
            "[0.672433] 1.0\n",
            "[0.6847762] 0.0\n",
            "[0.6077651] 0.0\n",
            "[0.6903105] 0.0\n",
            "[0.63321024] 1.0\n",
            "[0.6538404] 0.0\n",
            "[0.6855786] 1.0\n",
            "[0.66875345] 1.0\n",
            "[0.643703] 0.0\n",
            "[0.66200924] 0.0\n",
            "[0.6523777] 1.0\n",
            "[0.68828076] 1.0\n",
            "[0.66492003] 0.0\n",
            "[0.66251105] 1.0\n",
            "[0.64935505] 0.0\n",
            "[0.6767561] 0.0\n",
            "[0.65720046] 1.0\n",
            "[0.62735087] 0.0\n",
            "[0.6360379] 0.0\n",
            "[0.6403961] 0.0\n",
            "[0.64546657] 1.0\n",
            "[0.728388] 1.0\n",
            "[0.63576585] 1.0\n",
            "[0.6379107] 1.0\n"
          ],
          "name": "stdout"
        }
      ]
    },
    {
      "cell_type": "code",
      "metadata": {
        "id": "FcLGZzEkgvlc",
        "colab_type": "code",
        "colab": {
          "base_uri": "https://localhost:8080/",
          "height": 54
        },
        "outputId": "bcf76032-1647-4ca5-af1e-b2b59503a868"
      },
      "source": [
        "len(activations_batch)"
      ],
      "execution_count": 170,
      "outputs": [
        {
          "output_type": "execute_result",
          "data": {
            "text/plain": [
              "32"
            ]
          },
          "metadata": {
            "tags": []
          },
          "execution_count": 170
        }
      ]
    },
    {
      "cell_type": "markdown",
      "metadata": {
        "id": "sDqSu9Ym04nR",
        "colab_type": "text"
      },
      "source": [
        "### Create a checkpoints directory\n",
        "\n",
        "Once you have been able to train your model on a single batch, it's time to begin training on your training dataset. It may take a while to train for a single epoch, and it would be unfortunate if Colab disconnected after training for a while, and you lost your progress.\n",
        "\n",
        "* After each training epoch, save the model's weights in a checkpoint file. You can learn more about how to create checkpoints [here](https://www.tensorflow.org/guide/keras/save_and_serialize). \n",
        "\n",
        "* To resume training, load the latest checkpoint from disk. This will restore the latest weights and resume your progress. If it does not exist, begin training from scratch.\n",
        "\n",
        "* As a tip, you may want to store your checkpoints in Google Drive, so you'll still have access to them if Colab disconnects. \n",
        "\n",
        "Note that running long jobs is not what Colab is intended for. Normally, you could simple save your checkpoints on the machine you're working on. Saving to drive adds an extra step, but it's worthwhile learning how to do.\n",
        "\n",
        "Tip: after mounting Drive, **do not** programmatically run any commands to delete files from your checkpoints folder or elsewhere (e.g., by using ```!rm -rf```) in Colab. If you're not careful, you may accidentally wipe out your entire drive if you make a programming mistake. \n",
        "\n",
        "* Instead, if you need to delete checkpoints, do so manually through the drive user interface. Note that files deleted through the UI may take a minute or so to \"actually\" be deleted as reflected by ```!ls``` commands run from Colab."
      ]
    },
    {
      "cell_type": "code",
      "metadata": {
        "id": "9DhXkN3i06TY",
        "colab_type": "code",
        "colab": {
          "base_uri": "https://localhost:8080/",
          "height": 54
        },
        "outputId": "20fafdab-20a9-4b23-a38b-815a79b12d5f"
      },
      "source": [
        "# Mount drive\n",
        "drive.mount('/gdrive')\n",
        "drive_root = '/gdrive/My Drive/'"
      ],
      "execution_count": 155,
      "outputs": [
        {
          "output_type": "stream",
          "text": [
            "Drive already mounted at /gdrive; to attempt to forcibly remount, call drive.mount(\"/gdrive\", force_remount=True).\n"
          ],
          "name": "stdout"
        }
      ]
    },
    {
      "cell_type": "code",
      "metadata": {
        "id": "CMzFtWcJy8eC",
        "colab_type": "code",
        "colab": {}
      },
      "source": [
        "# If you'd like to save checkpoints in drive, you will need to uncomment\n",
        "# the code below. Alternatively, you can modify it to save\n",
        "# checkpoints in Colab (these will not persist if your instance is terminated,\n",
        "# but you can manually download them if you like).\n",
        "checkpoint_dir = os.path.join(drive_root, \"checkpoints\")\n",
        "checkpoint_dir = os.path.join(checkpoint_dir, \"hw4\")\n",
        "\n",
        "# Used for formatting\n",
        "checkpoint_path = os.path.join(checkpoint_dir, \"cp-{epoch:08d}.ckpt\")"
      ],
      "execution_count": 0,
      "outputs": []
    },
    {
      "cell_type": "code",
      "metadata": {
        "id": "JcLFRePmatah",
        "colab_type": "code",
        "colab": {
          "base_uri": "https://localhost:8080/",
          "height": 71
        },
        "outputId": "1878848f-c88c-44c5-be99-04dd1034b411"
      },
      "source": [
        "# Your code here\n",
        "# Uncomment this if you'd like to create a checkpoints folder in your drive\n",
        "print(\"Checkpoints directory is\", checkpoint_dir)\n",
        "if os.path.exists(checkpoint_dir):\n",
        "  print(\"Checkpoints folder already exists\")\n",
        "else:\n",
        "  print(\"Creating a checkpoints directory\")\n",
        "  os.makedirs(checkpoint_dir)"
      ],
      "execution_count": 157,
      "outputs": [
        {
          "output_type": "stream",
          "text": [
            "Checkpoints directory is /gdrive/My Drive/checkpoints/hw4\n",
            "Checkpoints folder already exists\n"
          ],
          "name": "stdout"
        }
      ]
    },
    {
      "cell_type": "markdown",
      "metadata": {
        "id": "mVCezYfDa6n_",
        "colab_type": "text"
      },
      "source": [
        "### Metrics"
      ]
    },
    {
      "cell_type": "code",
      "metadata": {
        "id": "gRVbkMtR_lp2",
        "colab_type": "code",
        "colab": {}
      },
      "source": [
        "# Utilities to help us record metrics.\n",
        "# You should not need to modify this code\n",
        "train_loss = tf.keras.metrics.Mean(name='train_loss')\n",
        "train_accuracy = tf.keras.metrics.Mean(name='train_accuracy')\n",
        "\n",
        "val_loss = tf.keras.metrics.BinaryCrossentropy(name='val_loss')\n",
        "val_accuracy = tf.keras.metrics.BinaryAccuracy(name='val_accuracy')"
      ],
      "execution_count": 0,
      "outputs": []
    },
    {
      "cell_type": "markdown",
      "metadata": {
        "id": "PahaAZPgu-hV",
        "colab_type": "text"
      },
      "source": [
        "### Code to evaluate on the validation dataset\n",
        "The validation dataset may be large. It would be wasteful to evaluate on the entire validation dataset each training epoch. Instead, you could evaluate every N epochs, or, you can use the below methoid to evaluate for a fixed number of steps (batches). This will give you a noisier evaluation, but a useful indicator of how your model is doing over time."
      ]
    },
    {
      "cell_type": "code",
      "metadata": {
        "id": "2mtca2G8FCF_",
        "colab_type": "code",
        "colab": {}
      },
      "source": [
        "# You should not need to modify this.\n",
        "def evaluate(max_steps=None):\n",
        "  steps = 0\n",
        "  for activation_batch, question_batch, answer_batch, path_batch in val_ds:\n",
        "    if max_steps != None and steps == max_steps:\n",
        "      break\n",
        "    predictions = model.predict(x=[activation_batch, question_batch])\n",
        "    steps += 1 \n",
        "    # Record metrics after each batch\n",
        "    val_loss(answer_batch, predictions)\n",
        "    val_accuracy(answer_batch, predictions)"
      ],
      "execution_count": 0,
      "outputs": []
    },
    {
      "cell_type": "markdown",
      "metadata": {
        "id": "VpRR3fbb03z3",
        "colab_type": "text"
      },
      "source": [
        "### Train the model\n",
        "As before, we'll write our training loop using ```train_on_batch```. This is intermediate in complexity between using ```.fit``` and writing everything from scratch using a ```GradientTape```. Because we're not using ```.fit```. Since we're not using .fit, there's a bit of extra code we need to write ourselves to track loss and accuracy as we go."
      ]
    },
    {
      "cell_type": "code",
      "metadata": {
        "id": "4e-1dK1YCR8D",
        "colab_type": "code",
        "colab": {
          "base_uri": "https://localhost:8080/",
          "height": 368
        },
        "outputId": "ef378ec3-7892-4652-d2da-09fe06331d88"
      },
      "source": [
        "# Your code here\n",
        "# Complete this cell (there are only a few parts to write)\n",
        "\n",
        "# Used to track loss and accuracy as we go\n",
        "# You should not need to modify these\n",
        "train_loss_history, train_acc_history = [], []\n",
        "val_loss_history, val_acc_history = [], []\n",
        "\n",
        "epochs = 10 # Your code here\n",
        "\n",
        "# Training loop\n",
        "for epoch in range(epochs):\n",
        "\n",
        "  start = time.time()\n",
        "\n",
        "  # Train for one epoch\n",
        "  for activation_batch, question_batch, answer_batch, path_batch in train_ds:\n",
        "    result = model.train_on_batch(x=[activation_batch, question_batch], y=answer_batch)\n",
        "\n",
        "    # Record metrics after each batch\n",
        "    train_loss(result[0])\n",
        "    train_accuracy(result[1])\n",
        "\n",
        "  # Evaluate for a few steps\n",
        "  evaluate(max_steps=100)\n",
        "\n",
        "  # Print progress\n",
        "  # You should not need to modify this.\n",
        "  template = 'Epoch {}, Loss: {:.2f}, Accuracy: {:.2f}, Val Loss {:.2f}, Val Accuracy {:.2f}, Time: {:.1f} secs'\n",
        "  print(template.format(epoch,\n",
        "                        train_loss.result(),\n",
        "                        train_accuracy.result() * 100,\n",
        "                        val_loss.result(),\n",
        "                        val_accuracy.result() * 100,\n",
        "                        time.time() - start))\n",
        "  \n",
        "  # Record history\n",
        "  train_loss_history.append(train_loss.result())\n",
        "  train_acc_history.append(train_accuracy.result() * 100)\n",
        "  val_loss_history.append(val_loss.result())\n",
        "  val_acc_history.append(val_accuracy.result() * 100)\n",
        "\n",
        "  # Reset the metrics for the next epoch\n",
        "  train_loss.reset_states()\n",
        "  train_accuracy.reset_states()\n",
        "  val_loss.reset_states()\n",
        "  val_accuracy.reset_states()\n",
        "\n",
        "  # Your code here\n",
        "  # Save a checkpoint after each epoch\n",
        "  print(\"Saving weights\")\n",
        "  model.save_weights(checkpoint_dir)"
      ],
      "execution_count": 160,
      "outputs": [
        {
          "output_type": "stream",
          "text": [
            "Epoch 0, Loss: 0.69, Accuracy: 51.58, Val Loss 0.69, Val Accuracy 53.53, Time: 75.2 secs\n",
            "Saving weights\n",
            "Epoch 1, Loss: 0.67, Accuracy: 58.42, Val Loss 0.71, Val Accuracy 53.50, Time: 81.2 secs\n",
            "Saving weights\n",
            "Epoch 2, Loss: 0.64, Accuracy: 63.14, Val Loss 0.75, Val Accuracy 52.97, Time: 78.8 secs\n",
            "Saving weights\n",
            "Epoch 3, Loss: 0.61, Accuracy: 66.68, Val Loss 0.77, Val Accuracy 53.34, Time: 79.0 secs\n",
            "Saving weights\n",
            "Epoch 4, Loss: 0.58, Accuracy: 70.23, Val Loss 0.82, Val Accuracy 52.75, Time: 80.0 secs\n",
            "Saving weights\n",
            "Epoch 5, Loss: 0.54, Accuracy: 72.70, Val Loss 0.81, Val Accuracy 53.66, Time: 82.7 secs\n",
            "Saving weights\n",
            "Epoch 6, Loss: 0.51, Accuracy: 75.07, Val Loss 0.86, Val Accuracy 53.19, Time: 80.1 secs\n",
            "Saving weights\n",
            "Epoch 7, Loss: 0.48, Accuracy: 77.22, Val Loss 0.91, Val Accuracy 52.19, Time: 80.9 secs\n",
            "Saving weights\n",
            "Epoch 8, Loss: 0.45, Accuracy: 78.69, Val Loss 0.99, Val Accuracy 51.62, Time: 81.5 secs\n",
            "Saving weights\n",
            "Epoch 9, Loss: 0.43, Accuracy: 79.63, Val Loss 0.95, Val Accuracy 52.50, Time: 85.2 secs\n",
            "Saving weights\n"
          ],
          "name": "stdout"
        }
      ]
    },
    {
      "cell_type": "markdown",
      "metadata": {
        "id": "DpS7M9UMWQjG",
        "colab_type": "text"
      },
      "source": [
        "### Create plots of your training and validation loss and accuracy"
      ]
    },
    {
      "cell_type": "code",
      "metadata": {
        "id": "MXmUwTMhWXzS",
        "colab_type": "code",
        "colab": {
          "base_uri": "https://localhost:8080/",
          "height": 565
        },
        "outputId": "d0e5c592-76d9-4610-f277-4af547dc67ce"
      },
      "source": [
        "epochs = range(10)\n",
        "\n",
        "plt.plot(epochs, train_acc_history, 'bo', label='Training acc')\n",
        "plt.plot(epochs, val_acc_history, 'b', label='Validation acc')\n",
        "plt.title('Training and validation accuracy')\n",
        "plt.legend()\n",
        "\n",
        "plt.figure()\n",
        "\n",
        "plt.plot(epochs, train_loss_history, 'bo', label='Training loss')\n",
        "plt.plot(epochs, val_loss_history, 'b', label='Validation loss')\n",
        "plt.title('Training and validation loss')\n",
        "plt.legend()\n",
        "\n",
        "plt.show()"
      ],
      "execution_count": 161,
      "outputs": [
        {
          "output_type": "display_data",
          "data": {
            "image/png": "[encoded data removed]",
            "text/plain": [
              "<Figure size 432x288 with 1 Axes>"
            ]
          },
          "metadata": {
            "tags": []
          }
        },
        {
          "output_type": "display_data",
          "data": {
            "image/png": "[encoded data removed]",
            "text/plain": [
              "<Figure size 432x288 with 1 Axes>"
            ]
          },
          "metadata": {
            "tags": []
          }
        }
      ]
    },
    {
      "cell_type": "markdown",
      "metadata": {
        "id": "KzTUcK3WclOi",
        "colab_type": "text"
      },
      "source": [
        "### At this point, you have end-to-end code to train VQA model\n",
        "Now you can begin working on increasing accuracy. For this assignment, your model should at least be able to fit your training split reasonably well. You do not need to build a model that performs well on validation to receive full credit (I recently made the starter dataset a bit more difficult, as a result - you may need to train using more data than I want you to do for a homework assignment)."
      ]
    },
    {
      "cell_type": "markdown",
      "metadata": {
        "id": "KCe18LhedPsg",
        "colab_type": "text"
      },
      "source": [
        "### Run one experiment to improve accuracy"
      ]
    },
    {
      "cell_type": "code",
      "metadata": {
        "id": "ujqBdK1rdEbq",
        "colab_type": "code",
        "colab": {}
      },
      "source": [
        "# Your code and brief writeup here\n",
        "# Think about how to improve the accuracy of your model, \n",
        "# either on the training or validation set.\n",
        "# Design and run an experiment to do so (by writting whatever code is necessary)\n",
        "# Include the code from your experiment here, and a few notes on the results\n",
        "# (one paragraph is fine).\n"
      ],
      "execution_count": 0,
      "outputs": []
    },
    {
      "cell_type": "markdown",
      "metadata": {
        "id": "YisAhTTCHxd_",
        "colab_type": "text"
      },
      "source": [
        "### Finally, evaluate your model on the test set\n",
        "How well did it do? This assignment is lengthy. For our purposes, it's fine to report the accuracy - and you're done :) \n",
        "\n",
        "For a proper evaluation, take a look at this [paper](https://arxiv.org/abs/1612.00837), as discussed in class.\n",
        "\n",
        "Note: if your model is performing poorly on the test set, you can still receive full credit for this assignment as mentioned above. "
      ]
    },
    {
      "cell_type": "code",
      "metadata": {
        "id": "NSQkgWG8Hyfu",
        "colab_type": "code",
        "colab": {
          "base_uri": "https://localhost:8080/",
          "height": 231
        },
        "outputId": "9e2890b8-1006-4d5a-810a-aec1a9d0dd0b"
      },
      "source": [
        "# Restore the latest checkpoint\n",
        "latest = tf.train.latest_checkpoint(checkpoint_dir)\n",
        "assert latest != None\n",
        "model.load_weights(latest)\n",
        "print(\"loaded weights from\", latest)"
      ],
      "execution_count": 188,
      "outputs": [
        {
          "output_type": "error",
          "ename": "AssertionError",
          "evalue": "ignored",
          "traceback": [
            "\u001b[0;31m---------------------------------------------------------------------------\u001b[0m",
            "\u001b[0;31mAssertionError\u001b[0m                            Traceback (most recent call last)",
            "\u001b[0;32m<ipython-input-188-090704d01d11>\u001b[0m in \u001b[0;36m<module>\u001b[0;34m()\u001b[0m\n\u001b[1;32m      1\u001b[0m \u001b[0mlatest\u001b[0m \u001b[0;34m=\u001b[0m \u001b[0mtf\u001b[0m\u001b[0;34m.\u001b[0m\u001b[0mtrain\u001b[0m\u001b[0;34m.\u001b[0m\u001b[0mlatest_checkpoint\u001b[0m\u001b[0;34m(\u001b[0m\u001b[0mcheckpoint_dir\u001b[0m\u001b[0;34m)\u001b[0m\u001b[0;34m\u001b[0m\u001b[0;34m\u001b[0m\u001b[0m\n\u001b[0;32m----> 2\u001b[0;31m \u001b[0;32massert\u001b[0m \u001b[0mlatest\u001b[0m \u001b[0;34m!=\u001b[0m \u001b[0;32mNone\u001b[0m\u001b[0;34m\u001b[0m\u001b[0;34m\u001b[0m\u001b[0m\n\u001b[0m\u001b[1;32m      3\u001b[0m \u001b[0mmodel\u001b[0m\u001b[0;34m.\u001b[0m\u001b[0mload_weights\u001b[0m\u001b[0;34m(\u001b[0m\u001b[0mlatest\u001b[0m\u001b[0;34m)\u001b[0m\u001b[0;34m\u001b[0m\u001b[0;34m\u001b[0m\u001b[0m\n\u001b[1;32m      4\u001b[0m \u001b[0mprint\u001b[0m\u001b[0;34m(\u001b[0m\u001b[0;34m\"loaded weights from\"\u001b[0m\u001b[0;34m,\u001b[0m \u001b[0mlatest\u001b[0m\u001b[0;34m)\u001b[0m\u001b[0;34m\u001b[0m\u001b[0;34m\u001b[0m\u001b[0m\n",
            "\u001b[0;31mAssertionError\u001b[0m: "
          ]
        }
      ]
    },
    {
      "cell_type": "code",
      "metadata": {
        "id": "HJhBzTEfxHLg",
        "colab_type": "code",
        "colab": {}
      },
      "source": [
        "# Your code here\n",
        "# Calculate accuracy on the test set"
      ],
      "execution_count": 0,
      "outputs": []
    },
    {
      "cell_type": "markdown",
      "metadata": {
        "id": "EQZtYaVO5Dhe",
        "colab_type": "text"
      },
      "source": [
        "That's it! This was a long assignment, I hope it was a useful (and fun!) learning experience."
      ]
    }
  ]
}