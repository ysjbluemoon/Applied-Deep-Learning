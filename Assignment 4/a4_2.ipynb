{
  "nbformat": 4,
  "nbformat_minor": 0,
  "metadata": {
    "colab": {
      "name": "a4-2.ipynb",
      "provenance": [],
      "toc_visible": true,
      "include_colab_link": true
    },
    "kernelspec": {
      "name": "python3",
      "display_name": "Python 3"
    }
  },
  "cells": [
    {
      "cell_type": "markdown",
      "metadata": {
        "id": "view-in-github",
        "colab_type": "text"
      },
      "source": [
        "<a href=\"https://colab.research.google.com/github/ysjbluemoon/Applied-Deep-Learning/blob/master/Assignment%204/a4_2.ipynb\" target=\"_parent\"><img src=\"https://colab.research.google.com/assets/colab-badge.svg\" alt=\"Open In Colab\"/></a>"
      ]
    },
    {
      "cell_type": "markdown",
      "metadata": {
        "id": "bHVUJ6rH1HmH",
        "colab_type": "text"
      },
      "source": [
        "## Notebook two: Preprocessing and training\n",
        "Create a new notebook for this. At the start, download your starter CSV and thumbnails.zip.\n",
        "\n",
        "The starter code below assumes you have created a zip file called \"thumbnails.zip\" containing only the resized images from the COOC training set mentioned in the starter CSV, and that you can download it from a URL."
      ]
    },
    {
      "cell_type": "code",
      "metadata": {
        "id": "IXsBdQ-p1H6S",
        "colab_type": "code",
        "colab": {}
      },
      "source": [
        "colab_root = \"/content/\" "
      ],
      "execution_count": 0,
      "outputs": []
    },
    {
      "cell_type": "markdown",
      "metadata": {
        "id": "do0le91D1QGE",
        "colab_type": "text"
      },
      "source": [
        "### Download the starter CSV"
      ]
    },
    {
      "cell_type": "code",
      "metadata": {
        "id": "PCisbBcs1pbl",
        "colab_type": "code",
        "colab": {}
      },
      "source": [
        "import matplotlib.image as mpimg\n",
        "import matplotlib.pyplot as plt\n",
        "import numpy as np\n",
        "import os\n",
        "import pickle\n",
        "import random\n",
        "import shutil\n",
        "import time\n",
        "\n",
        "from google.colab import drive\n",
        "from PIL import Image\n",
        "from sklearn.model_selection import train_test_split"
      ],
      "execution_count": 0,
      "outputs": []
    },
    {
      "cell_type": "code",
      "metadata": {
        "id": "mr5wHdaf1wJ8",
        "colab_type": "code",
        "colab": {}
      },
      "source": [
        "%tensorflow_version 2.x\n",
        "import tensorflow as tf"
      ],
      "execution_count": 0,
      "outputs": []
    },
    {
      "cell_type": "code",
      "metadata": {
        "id": "WE2MFDmc15Kb",
        "colab_type": "code",
        "colab": {}
      },
      "source": [
        "def download_if_missing(url, target, extract=True):\n",
        "  if os.path.exists(target):\n",
        "    return target\n",
        "  return tf.keras.utils.get_file(target, origin=url, extract=extract)"
      ],
      "execution_count": 0,
      "outputs": []
    },
    {
      "cell_type": "code",
      "metadata": {
        "id": "ClSqP59z1LLH",
        "colab_type": "code",
        "colab": {
          "base_uri": "https://localhost:8080/",
          "height": 54
        },
        "outputId": "ba9fa6b6-5ecb-4444-be30-3bd71352db59"
      },
      "source": [
        "csv_path = os.path.join(colab_root, \"starter.csv\")\n",
        "download_if_missing(\"https://storage.googleapis.com/applied-dl/mini-vqa/starter.csv\",\n",
        "                     csv_path)"
      ],
      "execution_count": 18,
      "outputs": [
        {
          "output_type": "execute_result",
          "data": {
            "text/plain": [
              "'/content/starter.csv'"
            ]
          },
          "metadata": {
            "tags": []
          },
          "execution_count": 18
        }
      ]
    },
    {
      "cell_type": "markdown",
      "metadata": {
        "id": "xnb6-xze2F58",
        "colab_type": "text"
      },
      "source": [
        "### Download and unzip your thumbnails\n",
        "\n",
        "This file is small enough that you can quickly download it with this method."
      ]
    },
    {
      "cell_type": "code",
      "metadata": {
        "id": "4mrz3G3CxO3F",
        "colab_type": "code",
        "colab": {}
      },
      "source": [
        "# Your code here\n",
        "YOUR_THUMBNAILS_URL = \"https://storage.cloud.google.com/vqa-hw4/\""
      ],
      "execution_count": 0,
      "outputs": []
    },
    {
      "cell_type": "code",
      "metadata": {
        "id": "dgMG4Rav8H_K",
        "colab_type": "code",
        "colab": {
          "base_uri": "https://localhost:8080/",
          "height": 54
        },
        "outputId": "7b9f0fbb-957b-4148-b0b2-7ec80ee40a91"
      },
      "source": [
        "thumbnails_file = os.path.join(colab_root, \"thumbnails.zip\")\n",
        "images_folder = os.path.join(colab_root, 'thumbnails/')\n",
        "download_if_missing(YOUR_THUMBNAILS_URL,\n",
        "                    thumbnails_file,\n",
        "                    extract=False)"
      ],
      "execution_count": 32,
      "outputs": [
        {
          "output_type": "execute_result",
          "data": {
            "text/plain": [
              "'/content/thumbnails.zip'"
            ]
          },
          "metadata": {
            "tags": []
          },
          "execution_count": 32
        }
      ]
    },
    {
      "cell_type": "code",
      "metadata": {
        "id": "OrOwi6gI4tW7",
        "colab_type": "code",
        "colab": {
          "base_uri": "https://localhost:8080/",
          "height": 54
        },
        "outputId": "f9480661-cba7-44fc-b5c7-d50dd2e6ec5b"
      },
      "source": [
        "! du -sh thumbnails.zip"
      ],
      "execution_count": 33,
      "outputs": [
        {
          "output_type": "stream",
          "text": [
            "68K\tthumbnails.zip\n"
          ],
          "name": "stdout"
        }
      ]
    },
    {
      "cell_type": "code",
      "metadata": {
        "id": "Manup0SxRKF3",
        "colab_type": "code",
        "colab": {
          "base_uri": "https://localhost:8080/",
          "height": 153
        },
        "outputId": "ee36b07d-f125-4200-b5c4-9d6113895f2f"
      },
      "source": [
        "!unzip -q $thumbnails_file -d $images_folder"
      ],
      "execution_count": 34,
      "outputs": [
        {
          "output_type": "stream",
          "text": [
            "[/content/thumbnails.zip]\n",
            "  End-of-central-directory signature not found.  Either this file is not\n",
            "  a zipfile, or it constitutes one disk of a multi-part archive.  In the\n",
            "  latter case the central directory and zipfile comment will be found on\n",
            "  the last disk(s) of this archive.\n",
            "unzip:  cannot find zipfile directory in one of /content/thumbnails.zip or\n",
            "        /content/thumbnails.zip.zip, and cannot find /content/thumbnails.zip.ZIP, period.\n"
          ],
          "name": "stdout"
        }
      ]
    },
    {
      "cell_type": "code",
      "metadata": {
        "id": "K9kw6tdtSHdI",
        "colab_type": "code",
        "colab": {
          "base_uri": "https://localhost:8080/",
          "height": 54
        },
        "outputId": "4d217f1a-51ab-470f-8fda-2a93284f64e3"
      },
      "source": [
        "!ls $images_folder"
      ],
      "execution_count": 13,
      "outputs": [
        {
          "output_type": "stream",
          "text": [
            "ls: cannot access '/content/thumbnails/': No such file or directory\n"
          ],
          "name": "stdout"
        }
      ]
    },
    {
      "cell_type": "code",
      "metadata": {
        "id": "n80yAYJy2Z-J",
        "colab_type": "code",
        "colab": {}
      },
      "source": [
        ""
      ],
      "execution_count": 0,
      "outputs": []
    }
  ]
}