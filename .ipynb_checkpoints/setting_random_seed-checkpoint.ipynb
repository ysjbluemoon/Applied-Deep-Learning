{
 "cells": [
  {
   "cell_type": "code",
   "execution_count": 1,
   "metadata": {
    "colab": {
     "base_uri": "https://localhost:8080/",
     "height": 51
    },
    "colab_type": "code",
    "id": "FBoLHr9fqR6N",
    "outputId": "38fee2c3-69bc-4bce-b006-ff4249a1ea54"
   },
   "outputs": [
    {
     "name": "stdout",
     "output_type": "stream",
     "text": [
      "TensorFlow 2.x selected.\n",
      "2.0.0-rc1\n"
     ]
    }
   ],
   "source": [
    "try:\n",
    "  # %tensorflow_version only exists in Colab.\n",
    "  %tensorflow_version 2.x\n",
    "except Exception:\n",
    "  pass\n",
    "import tensorflow as tf\n",
    "print(tf.__version__)"
   ]
  },
  {
   "cell_type": "code",
   "execution_count": 0,
   "metadata": {
    "colab": {},
    "colab_type": "code",
    "id": "w8Uhe2ZPp86A"
   },
   "outputs": [],
   "source": [
    "import numpy as np\n",
    "import random\n",
    "random.seed(42) # not necessary, but may be helpful if you have other code\n",
    "np.random.seed(42) # not necessary, but may be helpful if you have other code\n",
    "tf.random.set_seed(42)"
   ]
  },
  {
   "cell_type": "code",
   "execution_count": 3,
   "metadata": {
    "colab": {
     "base_uri": "https://localhost:8080/",
     "height": 68
    },
    "colab_type": "code",
    "id": "xblo2T63qT4U",
    "outputId": "0617b3c0-b935-4a41-8b84-0c22bb01b6ce"
   },
   "outputs": [
    {
     "name": "stdout",
     "output_type": "stream",
     "text": [
      "tf.Tensor(\n",
      "[[ 0.3274685 -0.8426258]\n",
      " [ 0.3194337 -1.4075519]], shape=(2, 2), dtype=float32)\n"
     ]
    }
   ],
   "source": [
    "data = tf.random.normal((2,2))\n",
    "print(data)"
   ]
  },
  {
   "cell_type": "code",
   "execution_count": 0,
   "metadata": {
    "colab": {},
    "colab_type": "code",
    "id": "LNNQpi-wrI9D"
   },
   "outputs": [],
   "source": [
    "# tf.Tensor(\n",
    "# [[ 0.3274685 -0.8426258]\n",
    "#  [ 0.3194337 -1.4075519]], shape=(2, 2), dtype=float32)"
   ]
  },
  {
   "cell_type": "code",
   "execution_count": 5,
   "metadata": {
    "colab": {
     "base_uri": "https://localhost:8080/",
     "height": 136
    },
    "colab_type": "code",
    "id": "Fo4xkR3Kqn0Y",
    "outputId": "59a8a6db-2e43-474f-d17c-52164efe12c5"
   },
   "outputs": [
    {
     "data": {
      "text/plain": [
       "<tf.Tensor: id=32, shape=(2, 10), dtype=float32, numpy=\n",
       "array([[ 3.7109971e-01, -2.4235262e-01,  6.5287197e-01, -1.5628605e-01,\n",
       "        -1.4903258e-01, -2.6508850e-01,  3.9794555e-01,  5.0421464e-01,\n",
       "        -5.1887747e-04, -4.5579481e-01],\n",
       "       [ 5.5942553e-01, -3.9983889e-01,  9.5186549e-01, -1.8130748e-01,\n",
       "        -3.2334584e-01, -5.6916070e-01,  5.2095705e-01,  7.6201010e-01,\n",
       "         4.7649894e-02, -7.7656138e-01]], dtype=float32)>"
      ]
     },
     "execution_count": 5,
     "metadata": {
      "tags": []
     },
     "output_type": "execute_result"
    }
   ],
   "source": [
    "d1 = tf.keras.layers.Dense(10)\n",
    "d1(data)"
   ]
  },
  {
   "cell_type": "code",
   "execution_count": 0,
   "metadata": {
    "colab": {},
    "colab_type": "code",
    "id": "TW22vv1arEvg"
   },
   "outputs": [],
   "source": [
    "# <tf.Tensor: id=32, shape=(2, 10), dtype=float32, numpy=\n",
    "# array([[ 3.7109971e-01, -2.4235262e-01,  6.5287197e-01, -1.5628605e-01,\n",
    "#         -1.4903258e-01, -2.6508850e-01,  3.9794555e-01,  5.0421464e-01,\n",
    "#         -5.1887747e-04, -4.5579481e-01],\n",
    "#        [ 5.5942553e-01, -3.9983889e-01,  9.5186549e-01, -1.8130748e-01,\n",
    "#         -3.2334584e-01, -5.6916070e-01,  5.2095705e-01,  7.6201010e-01,\n",
    "#          4.7649894e-02, -7.7656138e-01]], dtype=float32)>"
   ]
  },
  {
   "cell_type": "code",
   "execution_count": 7,
   "metadata": {
    "colab": {
     "base_uri": "https://localhost:8080/",
     "height": 119
    },
    "colab_type": "code",
    "id": "fisiMqF2qtRe",
    "outputId": "a57df940-262f-41c3-9fac-55217ca9256b"
   },
   "outputs": [
    {
     "name": "stdout",
     "output_type": "stream",
     "text": [
      "<tf.Variable 'dense/kernel:0' shape=(2, 10) dtype=float32, numpy=\n",
      "array([[ 0.26571834, -0.02195024,  0.6095181 , -0.35046047,  0.32690102,\n",
      "         0.55517536,  0.6317974 ,  0.3526116 , -0.21318382,  0.06672621],\n",
      "       [-0.3371429 ,  0.27908546, -0.53793037,  0.04927605,  0.30390996,\n",
      "         0.53035516, -0.22673386, -0.46135002, -0.08223355,  0.5668537 ]],\n",
      "      dtype=float32)>\n"
     ]
    }
   ],
   "source": [
    "print(d1.weights[0])"
   ]
  },
  {
   "cell_type": "code",
   "execution_count": 0,
   "metadata": {
    "colab": {},
    "colab_type": "code",
    "id": "uaXOSnc7q_EH"
   },
   "outputs": [],
   "source": [
    "# <tf.Variable 'dense/kernel:0' shape=(2, 10) dtype=float32, numpy=\n",
    "# array([[ 0.26571834, -0.02195024,  0.6095181 , -0.35046047,  0.32690102,\n",
    "#          0.55517536,  0.6317974 ,  0.3526116 , -0.21318382,  0.06672621],\n",
    "#        [-0.3371429 ,  0.27908546, -0.53793037,  0.04927605,  0.30390996,\n",
    "#          0.53035516, -0.22673386, -0.46135002, -0.08223355,  0.5668537 ]],\n",
    "#       dtype=float32)>"
   ]
  }
 ],
 "metadata": {
  "colab": {
   "name": "setting-random-seed.ipynb",
   "provenance": []
  },
  "kernelspec": {
   "display_name": "Python 3",
   "language": "python",
   "name": "python3"
  },
  "language_info": {
   "codemirror_mode": {
    "name": "ipython",
    "version": 3
   },
   "file_extension": ".py",
   "mimetype": "text/x-python",
   "name": "python",
   "nbconvert_exporter": "python",
   "pygments_lexer": "ipython3",
   "version": "3.6.8"
  }
 },
 "nbformat": 4,
 "nbformat_minor": 1
}
