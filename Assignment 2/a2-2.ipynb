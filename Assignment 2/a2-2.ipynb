{
  "nbformat": 4,
  "nbformat_minor": 0,
  "metadata": {
    "colab": {
      "name": "a2-2.ipynb",
      "version": "0.3.2",
      "provenance": [],
      "collapsed_sections": []
    },
    "kernelspec": {
      "name": "python3",
      "display_name": "Python 3"
    }
  },
  "cells": [
    {
      "cell_type": "markdown",
      "metadata": {
        "id": "PExgXZnCAysF",
        "colab_type": "text"
      },
      "source": [
        "## Convert a Keras model to TF.js format\n",
        "\n",
        "1. Upload your `model.h5`file  from the previous notebook to Colab. \n",
        "\n",
        "1. Running this script will convert it to TensorFlow.js format. You will see a new directory containing a `model.json` file (containing meta data), and one or more `group*.bin` files (containing the weights).\n",
        "\n",
        "1. Download these files to your local machine.\n",
        "\n",
        "1. Next, download the [starter code](https://drive.google.com/drive/folders/1uxbc7IBo8AT8OGZqIe9LJQsqQyeOYPlF?usp=sharing) for your webpage (this is complete, and should work with your flowers model out of the box). There are three files you shoudl download (index.html, index.js, and cat.jpg).\n",
        "\n",
        "1. Create a directory on your local machine (say, `tfjs`) and put all the files from the above two steps there.\n",
        "\n",
        "1. Next, you'll want to start a HTTP Server on your local machine (if you simply open index.html in a browser, you may run into security protections that prevent it from loading scripts. To start a server, you can use one built-in to Python. First, `cd` into your `tfds` directory.  \n",
        "\n",
        " If you have Python2 installed, run this command in your terminal:\n",
        "\n",
        " `$ python -m SimpleHTTPServer [port]`\n",
        "\n",
        " If you have Python3:\n",
        "\n",
        " `$ python3 -m http.server [port]`\n",
        "\n",
        "1. Now, open a browser (point the URL to `localhost:8888`). Your webpage should appear. To debug, in Chrome you can open the Javascript console via ```View - Developer -> Developer tools -> Console```. Check if there are any errors.\n",
        "\n",
        "References\n",
        "* https://www.tensorflow.org/js/tutorials/conversion/import_keras\n",
        "* https://github.com/tensorflow/tfjs-examples/tree/master/mobilenet"
      ]
    },
    {
      "cell_type": "code",
      "metadata": {
        "id": "-oeRcDOJJbH3",
        "colab_type": "code",
        "colab": {}
      },
      "source": [
        "!pip install -U tensorflowjs==1.2.6"
      ],
      "execution_count": 0,
      "outputs": []
    },
    {
      "cell_type": "markdown",
      "metadata": {
        "id": "HdviRjxAAuH3",
        "colab_type": "text"
      },
      "source": [
        ""
      ]
    },
    {
      "cell_type": "markdown",
      "metadata": {
        "id": "5PYBKM5_Am5X",
        "colab_type": "text"
      },
      "source": [
        "### Upload your `model.h5` file to Colab\n",
        "Before running this cell."
      ]
    },
    {
      "cell_type": "code",
      "metadata": {
        "id": "-ci1uuI9Jf-j",
        "colab_type": "code",
        "colab": {}
      },
      "source": [
        "!tensorflowjs_converter \\\n",
        "    --input_format=keras \\\n",
        "    my_model.h5 \\\n",
        "    tfjs_model"
      ],
      "execution_count": 0,
      "outputs": []
    },
    {
      "cell_type": "code",
      "metadata": {
        "id": "SkVHHUHuJrSc",
        "colab_type": "code",
        "colab": {}
      },
      "source": [
        "!pwd"
      ],
      "execution_count": 0,
      "outputs": []
    },
    {
      "cell_type": "code",
      "metadata": {
        "id": "xQVNWnbTMahW",
        "colab_type": "code",
        "colab": {}
      },
      "source": [
        "!ls /content/my_tfjs_model -lh"
      ],
      "execution_count": 0,
      "outputs": []
    },
    {
      "cell_type": "markdown",
      "metadata": {
        "id": "uDGSlrfZAwFw",
        "colab_type": "text"
      },
      "source": [
        "### Download your converted `model.json` and `group*.bin files\n",
        "Then follow the instructions above."
      ]
    }
  ]
}